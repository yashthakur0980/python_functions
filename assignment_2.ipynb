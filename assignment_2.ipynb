{
 "cells": [
  {
   "cell_type": "code",
   "execution_count": 1,
   "metadata": {},
   "outputs": [
    {
     "data": {
      "text/plain": [
       "[1, 3, 5, 7, 9, 11, 13, 15, 17, 19, 21, 23, 25]"
      ]
     },
     "execution_count": 1,
     "metadata": {},
     "output_type": "execute_result"
    }
   ],
   "source": [
    "## question number 1\n",
    "\n",
    "l1=[]\n",
    "def odd():\n",
    "    for i in range(1,26):\n",
    "        if i%2!=0:\n",
    "            l1.append(i)\n",
    "    return l1            \n",
    "odd()\n"
   ]
  },
  {
   "cell_type": "code",
   "execution_count": 8,
   "metadata": {},
   "outputs": [
    {
     "data": {
      "text/plain": [
       "(56, 1, 4, 5, 'yash', [2, 3, 4, 1])"
      ]
     },
     "execution_count": 8,
     "metadata": {},
     "output_type": "execute_result"
    }
   ],
   "source": [
    "## question number 2\n",
    "\n",
    "## demostrating use of *args\n",
    "def myfunc(*args):\n",
    "    return args\n",
    "myfunc(56,1,4,5,'yash',[2,3,4,1])\n",
    "    \n",
    "   "
   ]
  },
  {
   "cell_type": "code",
   "execution_count": null,
   "metadata": {},
   "outputs": [],
   "source": [
    "\"\"\" We use *args and **kwargs as an argument when we are unsure about the number of arguments to pass in the functions.\n",
    "*args is used to provide any number of argument in the form of tuples whereas **kwargs is used for dictonary type arguments.\"\"\""
   ]
  },
  {
   "cell_type": "code",
   "execution_count": null,
   "metadata": {},
   "outputs": [
    {
     "data": {
      "text/plain": [
       "{'name': 'yash', 'number': 6484749, 'grade': 'A'}"
      ]
     },
     "execution_count": 6,
     "metadata": {},
     "output_type": "execute_result"
    }
   ],
   "source": [
    "## question number 2\n",
    "\n",
    "## demostrating use of **kwargs\n",
    "\n",
    "def myfunc1(**kwargs):\n",
    "    return kwargs\n",
    "myfunc1(name='yash', number=6484749, grade='A')    "
   ]
  },
  {
   "cell_type": "code",
   "execution_count": 21,
   "metadata": {},
   "outputs": [
    {
     "name": "stdout",
     "output_type": "stream",
     "text": [
      "2\n",
      "4\n",
      "6\n",
      "8\n",
      "10\n"
     ]
    }
   ],
   "source": [
    "## question number 3\n",
    "\n",
    "\"\"\"An iterator is an object that contains a countable number of values. An iterator is an object that can be iterated upon,\n",
    " meaning that you can traverse through all the values.\n",
    " \n",
    " iter() method is used to intialise the iterator object. It uses the next() method for iteration.\"\"\"\n",
    "\n",
    "l= [2, 4, 6, 8, 10, 12, 14,16, 18, 20]\n",
    "def myfunc(l):\n",
    "    obj = iter(l)\n",
    "    print(next(obj))\n",
    "    print(next(obj))\n",
    "    print(next(obj))\n",
    "    print(next(obj))\n",
    "    print(next(obj))    \n",
    "myfunc(l)"
   ]
  },
  {
   "cell_type": "code",
   "execution_count": 22,
   "metadata": {},
   "outputs": [
    {
     "name": "stdout",
     "output_type": "stream",
     "text": [
      "H\n",
      "E\n",
      "L\n",
      "L\n",
      "O\n"
     ]
    }
   ],
   "source": [
    "## question number 4\n",
    "\n",
    "\"\"\"Generators are functions that return an iterable generator object.\n",
    " The values from the generator object are fetched one at a time instead of the full list together.\n",
    " \n",
    " The yield keyword in python works like a return with the only\n",
    "difference is that instead of returning a value, it gives back a generator object to the caller.\n",
    "yield returns a generator object. \"\"\"\n",
    "\n",
    "def generator():\n",
    "    yield \"H\"\n",
    "    yield \"E\"\n",
    "    yield \"L\"\n",
    "    yield \"L\"\n",
    "    yield \"O\"\n",
    "\n",
    "test = generator()\n",
    "for i in test:\n",
    "    print(i)"
   ]
  },
  {
   "cell_type": "code",
   "execution_count": 32,
   "metadata": {},
   "outputs": [
    {
     "name": "stdout",
     "output_type": "stream",
     "text": [
      "2\n",
      "3\n",
      "4\n",
      "5\n",
      "6\n",
      "7\n",
      "8\n",
      "9\n",
      "10\n",
      "11\n",
      "12\n",
      "13\n",
      "14\n",
      "15\n",
      "16\n",
      "17\n",
      "18\n",
      "19\n",
      "20\n",
      "21\n"
     ]
    }
   ],
   "source": [
    "## question number 5\n",
    "\n",
    "def prime_or_not():\n",
    "    prime=True\n",
    "    for i in range(2,1000):\n",
    "        for j in range(2,i):\n",
    "            if j%i==0:\n",
    "                prime=False\n",
    "        if prime:\n",
    "            yield i\n",
    "n=prime_or_not()\n",
    "print(next(n)) \n",
    "print(next(n)) \n",
    "print(next(n)) \n",
    "print(next(n)) \n",
    "print(next(n)) \n",
    "print(next(n)) \n",
    "print(next(n)) \n",
    "print(next(n)) \n",
    "print(next(n)) \n",
    "print(next(n)) \n",
    "print(next(n)) \n",
    "print(next(n)) \n",
    "print(next(n)) \n",
    "print(next(n)) \n",
    "print(next(n)) \n",
    "print(next(n)) \n",
    "print(next(n)) \n",
    "print(next(n)) \n",
    "print(next(n)) \n",
    "print(next(n)) "
   ]
  },
  {
   "cell_type": "code",
   "execution_count": 36,
   "metadata": {},
   "outputs": [
    {
     "name": "stdout",
     "output_type": "stream",
     "text": [
      "0\n",
      "1\n",
      "1\n",
      "2\n",
      "3\n",
      "5\n",
      "8\n",
      "13\n",
      "21\n",
      "34\n"
     ]
    }
   ],
   "source": [
    "## question number 6\n",
    "\n",
    "def fabonacci():\n",
    "    i=1\n",
    "    a,b=0,1\n",
    "    while i<=10:\n",
    "        print(a)\n",
    "        a,b=b,a+b\n",
    "        i=i+1\n",
    "fabonacci()        \n"
   ]
  },
  {
   "cell_type": "code",
   "execution_count": 38,
   "metadata": {},
   "outputs": [
    {
     "data": {
      "text/plain": [
       "['p', 'w', 's', 'k', 'i', 'l', 'l', 's']"
      ]
     },
     "execution_count": 38,
     "metadata": {},
     "output_type": "execute_result"
    }
   ],
   "source": [
    "## question number 7\n",
    "\n",
    "l='pwskills'\n",
    "[i for i in l ]"
   ]
  },
  {
   "cell_type": "code",
   "execution_count": 44,
   "metadata": {},
   "outputs": [
    {
     "name": "stdout",
     "output_type": "stream",
     "text": [
      "number is palindrome\n"
     ]
    }
   ],
   "source": [
    "## question number 8\n",
    "\n",
    "def palindrome(n):\n",
    "    m=n\n",
    "    rev=0\n",
    "    while n >0:\n",
    "        r = n%10\n",
    "        rev= rev*10 +r \n",
    "        n=n//10\n",
    "    if m==rev:\n",
    "        print('number is palindrome') \n",
    "    else:\n",
    "        print('number is not palindorme')\n",
    "palindrome(121)              "
   ]
  },
  {
   "cell_type": "code",
   "execution_count": 47,
   "metadata": {},
   "outputs": [
    {
     "data": {
      "text/plain": [
       "[1,\n",
       " 3,\n",
       " 5,\n",
       " 7,\n",
       " 9,\n",
       " 11,\n",
       " 13,\n",
       " 15,\n",
       " 17,\n",
       " 19,\n",
       " 21,\n",
       " 23,\n",
       " 25,\n",
       " 27,\n",
       " 29,\n",
       " 31,\n",
       " 33,\n",
       " 35,\n",
       " 37,\n",
       " 39,\n",
       " 41,\n",
       " 43,\n",
       " 45,\n",
       " 47,\n",
       " 49,\n",
       " 51,\n",
       " 53,\n",
       " 55,\n",
       " 57,\n",
       " 59,\n",
       " 61,\n",
       " 63,\n",
       " 65,\n",
       " 67,\n",
       " 69,\n",
       " 71,\n",
       " 73,\n",
       " 75,\n",
       " 77,\n",
       " 79,\n",
       " 81,\n",
       " 83,\n",
       " 85,\n",
       " 87,\n",
       " 89,\n",
       " 91,\n",
       " 93,\n",
       " 95,\n",
       " 97,\n",
       " 99]"
      ]
     },
     "execution_count": 47,
     "metadata": {},
     "output_type": "execute_result"
    }
   ],
   "source": [
    "## question number 9\n",
    "\n",
    "[i for i in range(1,101)]\n",
    "[i for i in range(1,101) if i%2!=0]"
   ]
  },
  {
   "cell_type": "code",
   "execution_count": null,
   "metadata": {},
   "outputs": [],
   "source": []
  }
 ],
 "metadata": {
  "kernelspec": {
   "display_name": "Python 3",
   "language": "python",
   "name": "python3"
  },
  "language_info": {
   "codemirror_mode": {
    "name": "ipython",
    "version": 3
   },
   "file_extension": ".py",
   "mimetype": "text/x-python",
   "name": "python",
   "nbconvert_exporter": "python",
   "pygments_lexer": "ipython3",
   "version": "3.9.7"
  },
  "orig_nbformat": 4,
  "vscode": {
   "interpreter": {
    "hash": "82ed002fa2d4956f5c6aec99bcefe0f73a9f79882f3c9e2319b14958a5896ac5"
   }
  }
 },
 "nbformat": 4,
 "nbformat_minor": 2
}
